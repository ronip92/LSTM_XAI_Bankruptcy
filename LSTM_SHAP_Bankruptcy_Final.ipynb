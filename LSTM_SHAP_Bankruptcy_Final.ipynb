{
 "cells": [
  {
   "cell_type": "code",
   "execution_count": null,
   "id": "f794c6af-b74a-43d5-85fd-d48e678aa21a",
   "metadata": {},
   "outputs": [],
   "source": [
    "import numpy as np\n",
    "import pandas as pd\n",
    "import shap\n",
    "import matplotlib.pyplot as plt\n",
    "from sklearn.preprocessing import StandardScaler\n",
    "from sklearn.impute import SimpleImputer"
   ]
  },
  {
   "cell_type": "code",
   "execution_count": null,
   "id": "16308d35-ac80-4d5e-8aad-38a33f07b185",
   "metadata": {},
   "outputs": [],
   "source": [
    "import tensorflow as tf\n",
    "print(tf.__version__)"
   ]
  },
  {
   "cell_type": "code",
   "execution_count": null,
   "id": "4e64eee4-193b-4d80-8567-b6805f294e8e",
   "metadata": {},
   "outputs": [],
   "source": [
    "# Load the data\n",
    "df = pd.read_csv(\"sampled_10_percent.csv\", delimiter=',')\n",
    "df['public_date'] = pd.to_datetime(df['public_date'])\n",
    "df = df.sort_values(by=['permno', 'public_date'])"
   ]
  },
  {
   "cell_type": "code",
   "execution_count": null,
   "id": "ea366c7e-3ede-42f0-882a-d24436abb619",
   "metadata": {},
   "outputs": [],
   "source": [
    "# Get unique company counts before filtering\n",
    "initial_bankrupt_count = df[df['Bankrupt']].drop_duplicates('permno').shape[0]\n",
    "initial_non_bankrupt_count = df[~df['Bankrupt']].drop_duplicates('permno').shape[0]\n",
    "\n",
    "# Specify the periods, adjusted for zero-based index\n",
    "periods = [x - 1 for x in range(3, 37, 3)]  # Simplified generation of periods\n",
    "\n",
    "# Filter rows for each 'permno' based on the specified periods\n",
    "filtered_df = df.groupby('permno').nth(periods).reset_index()\n",
    "\n",
    "# Count unique bankrupt and non-bankrupt companies post-filtering\n",
    "filtered_bankrupt_count = filtered_df[filtered_df['Bankrupt']].drop_duplicates('permno').shape[0]\n",
    "filtered_non_bankrupt_count = filtered_df[~filtered_df['Bankrupt']].drop_duplicates('permno').shape[0]\n",
    "\n",
    "# Print the initial and post-filtering counts\n",
    "print(f\"Initial Number of bankrupt companies: {initial_bankrupt_count}\")\n",
    "print(f\"Initial Number of non-bankrupt companies: {initial_non_bankrupt_count}\")\n",
    "print(f\"Filtered Number of bankrupt companies: {filtered_bankrupt_count}\")\n",
    "print(f\"Filtered Number of non-bankrupt companies: {filtered_non_bankrupt_count}\")"
   ]
  },
  {
   "cell_type": "code",
   "execution_count": null,
   "id": "e0f94554-8c07-4a91-89c1-76808a233625",
   "metadata": {},
   "outputs": [],
   "source": [
    "# Ratios based on Feature Selection using LASSO\n",
    "ratios = ['X1', 'X2', 'X3', 'X4', 'X5', 'X6', 'X7', 'X8', 'X9', 'X10',\n",
    "          'X11', 'X12', 'X13', 'X14', 'X15', 'X16', 'X17', 'X18', 'X19',\n",
    "          'X20', 'X21', 'X22', 'X23', 'X24', 'X25', 'X26', 'X27', 'X28',\n",
    "          'X29', 'X30', 'X31', 'X32', 'X33', 'X34', 'X35', 'X36', 'X37',\n",
    "          'X38', 'X39', 'X40', 'X41', 'X42', 'X43', 'X44', 'X45', 'X46',\n",
    "          'X47', 'X48', 'X49', 'X50', 'X51', 'X52', 'X53', 'X54', 'X55',\n",
    "          'X56', 'X57', 'X58', 'X59', 'X60', 'X61', 'X62', 'X63', 'X64',\n",
    "          'X65', 'X66', 'X67', 'X68', 'X69', 'X70', 'X71']"
   ]
  },
  {
   "cell_type": "code",
   "execution_count": null,
   "id": "75378dc4-4d1e-43d9-b759-bcb42b4a4b7c",
   "metadata": {},
   "outputs": [],
   "source": [
    "# Prepare the dataset for LSTM\n",
    "X, y, permnos = [], [], []\n",
    "grouped = df.groupby('permno')\n",
    "\n",
    "sequence_length = 12\n",
    "for permno, group in grouped:\n",
    "    group = group.sort_values(by='public_date')  # Ensure sorting by date\n",
    "    if len(group) >= sequence_length:\n",
    "        X.append(group[ratios].tail(sequence_length).values)\n",
    "        y.append(group['Bankrupt'].iloc[-1])\n",
    "        permnos.append(permno)  # Store permno for later use\n",
    "\n",
    "X, y = np.array(X), np.array(y)"
   ]
  },
  {
   "cell_type": "code",
   "execution_count": null,
   "id": "920a90cf-40b0-4c16-9c95-3b881f3d8ac2",
   "metadata": {},
   "outputs": [],
   "source": [
    "# Impute missing values\n",
    "imputer = SimpleImputer(strategy='mean')\n",
    "X = imputer.fit_transform(X.reshape(-1, X.shape[-1])).reshape(X.shape)\n"
   ]
  },
  {
   "cell_type": "code",
   "execution_count": null,
   "id": "a03867af-fd31-496b-8fa0-a501f6dd6ecf",
   "metadata": {},
   "outputs": [],
   "source": [
    "# Normalize the features\n",
    "scaler = StandardScaler()\n",
    "X_scaled = scaler.fit_transform(X.reshape(-1, X.shape[-1])).reshape(X.shape)\n"
   ]
  },
  {
   "cell_type": "code",
   "execution_count": null,
   "id": "75af9369-40db-4e88-b733-8ecb329ba700",
   "metadata": {},
   "outputs": [],
   "source": [
    "from tensorflow.keras.models import load_model"
   ]
  },
  {
   "cell_type": "code",
   "execution_count": null,
   "id": "f029af07-fa16-4eee-a059-27375046ba78",
   "metadata": {},
   "outputs": [],
   "source": [
    "# Load the model\n",
    "model = load_model('LSTM_Model_72_Q36.h5')"
   ]
  },
  {
   "cell_type": "code",
   "execution_count": null,
   "id": "73ff3370-7d42-413a-9980-46a892c8da73",
   "metadata": {},
   "outputs": [],
   "source": [
    "# Prepare a subset of the training data \n",
    "background_data = X_scaled[:1000]\n",
    "\n",
    "# Initialize the SHAP DeepExplainer with the model and the background data\n",
    "explainer = shap.DeepExplainer(model, background_data)\n",
    "\n",
    "# Prepare a subset of test data for which you want explanations\n",
    "test_data_for_explanation = X_scaled"
   ]
  },
  {
   "cell_type": "code",
   "execution_count": null,
   "id": "d3247201-994b-4b2e-a758-18e336db3c89",
   "metadata": {},
   "outputs": [],
   "source": [
    "# Calculate SHAP values for the selected test data\n",
    "shap_values = explainer.shap_values(test_data_for_explanation)\n",
    "\n",
    "# Assuming the model outputs SHAP values for each class and is a classification model\n",
    "selected_class_index = 0  # Assuming the bankrupt class is at index 1\n",
    "shap_values_for_class = shap_values[selected_class_index]\n"
   ]
  },
  {
   "cell_type": "code",
   "execution_count": null,
   "id": "0ed9e91a-7c8b-44d6-ba2a-bf7958d8be17",
   "metadata": {},
   "outputs": [],
   "source": [
    "# For LSTM or models where input is sequence data, we want to focus on the last timestep for SHAP values\n",
    "# This focuses on the last timestep's SHAP values if the model is an LSTM\n",
    "if len(shap_values_for_class.shape) == 3:\n",
    "    shap_values_last_timestep = shap_values_for_class[:, -1, :]\n",
    "    test_data_last_timestep = test_data_for_explanation[:, -1, :]\n",
    "else:\n",
    "    shap_values_last_timestep = shap_values_for_class\n",
    "    test_data_last_timestep = test_data_for_explanation\n",
    "\n",
    "# Print shapes to confirm the adjustment\n",
    "print(\"Adjusted SHAP values shape:\", shap_values_last_timestep.shape)\n",
    "print(\"Adjusted test data shape:\", test_data_last_timestep.shape)\n",
    "\n",
    "# Try plotting again with matched number of rows\n",
    "try:\n",
    "    shap.summary_plot(shap_values_last_timestep, test_data_last_timestep, feature_names=ratios, plot_type='bar')\n",
    "    shap.summary_plot(shap_values_last_timestep, test_data_last_timestep, feature_names=ratios)\n",
    "    print(\"Successfully generated SHAP summary plot for bankrupt class.\")\n",
    "except Exception as e:\n",
    "    print(\"Error in generating SHAP summary plot for bankrupt class:\", e)\n"
   ]
  },
  {
   "cell_type": "code",
   "execution_count": null,
   "id": "4e35f6e4-120e-4ae0-8609-da384b9e11db",
   "metadata": {},
   "outputs": [],
   "source": [
    "# For LSTM or models where input is sequence data, we want to focus on the last timestep for SHAP values\n",
    "if len(shap_values_for_class.shape) == 3:\n",
    "    shap_values_last_timestep = shap_values_for_class[:, -1, :]\n",
    "    test_data_last_timestep = test_data_for_explanation[:, -1, :]\n",
    "else:\n",
    "    shap_values_last_timestep = shap_values_for_class\n",
    "    test_data_last_timestep = test_data_for_explanation\n",
    "\n",
    "# Function to remove outliers using quantiles\n",
    "def remove_outliers(values, low_quantile=0.01, high_quantile=0.99):\n",
    "    lower_bound = np.quantile(values, low_quantile)\n",
    "    upper_bound = np.quantile(values, high_quantile)\n",
    "    mask = (values >= lower_bound) & (values <= upper_bound)\n",
    "    return mask\n",
    "\n",
    "# Select a feature for the dependence plot\n",
    "feature_to_plot = 'X13'\n",
    "feature_index = ratios.index(feature_to_plot)\n",
    "\n",
    "# Remove outliers based on the `bm` feature itself\n",
    "bm_values = test_data_last_timestep[:, feature_index]\n",
    "mask_bm = remove_outliers(bm_values, 0.05, 0.95)\n",
    "filtered_bm_values = bm_values[mask_bm]\n",
    "filtered_test_data = test_data_last_timestep[mask_bm]\n",
    "filtered_shap_values = shap_values_last_timestep[mask_bm]\n",
    "\n",
    "# Further filter outliers from SHAP values themselves\n",
    "mask_shap = remove_outliers(filtered_shap_values[:, feature_index], 0.01, 0.99)\n",
    "final_filtered_shap_values = filtered_shap_values[mask_shap]\n",
    "final_filtered_test_data = filtered_test_data[mask_shap]\n",
    "\n",
    "# Create the SHAP dependence plot\n",
    "try:\n",
    "    shap.dependence_plot(\n",
    "        feature_to_plot,                           # Feature to plot\n",
    "        final_filtered_shap_values,                # SHAP values for the selected class (outliers removed)\n",
    "        final_filtered_test_data,                  # Corresponding features from the test data (outliers removed)\n",
    "        feature_names=ratios,                      # Names of the features\n",
    "        interaction_index=None                     # Set to None for no interaction, or specify another feature name\n",
    "    )\n",
    "    print(f\"Successfully generated SHAP dependence plot for {feature_to_plot}.\")\n",
    "except Exception as e:\n",
    "    print(f\"Error in generating SHAP dependence plot for {feature_to_plot}:\", e)"
   ]
  },
  {
   "cell_type": "code",
   "execution_count": null,
   "id": "5aa4ad28-e4d3-4f8c-9107-23aa3fb5df31",
   "metadata": {},
   "outputs": [],
   "source": [
    "# For LSTM models, extract the SHAP values for the last timestep\n",
    "shap_values_for_class = np.array([sv[-1] for sv in shap_values[0]])\n",
    "\n",
    "# Print shapes to confirm the adjustment\n",
    "print(\"Adjusted SHAP values shape:\", shap_values_for_class.shape)\n"
   ]
  },
  {
   "cell_type": "code",
   "execution_count": null,
   "id": "7963d785-92b2-478d-aa60-213c8ee916de",
   "metadata": {},
   "outputs": [],
   "source": [
    "desired_permno = 80803  # Set the desired permno here\n",
    "\n",
    "# Function to format the bar values with more precision\n",
    "def format_bar_labels(ax, precision=4):\n",
    "    for text in ax.texts:\n",
    "        try:\n",
    "            # Check if the text is a number and format it\n",
    "            value = float(text.get_text())\n",
    "            text.set_text(f'{value:.{precision}f}')\n",
    "        except ValueError:\n",
    "            continue\n",
    "\n",
    "# Find the index of the desired permno in the test_permnos list\n",
    "if desired_permno in permnos:\n",
    "    instance_index = permnos.index(desired_permno)\n",
    "    try:\n",
    "        shap.initjs()  # Initialize JavaScript visualization in Jupyter notebook\n",
    "\n",
    "        # Convert the SHAP values to an Explanation object\n",
    "        feature_data = pd.DataFrame(test_data_for_explanation[instance_index], columns=ratios)\n",
    "        explanation = shap.Explanation(values=shap_values_for_class[instance_index],\n",
    "                                       base_values=explainer.expected_value[0],  # Assuming single output model\n",
    "                                       data=feature_data.iloc[0],\n",
    "                                       feature_names=ratios)\n",
    "\n",
    "        # Plotting the waterfall chart\n",
    "        fig, ax = plt.subplots()\n",
    "        shap.plots.waterfall(explanation, show=False)\n",
    "\n",
    "        # Get current y-tick labels\n",
    "        yticklabels = ax.get_yticklabels()\n",
    "        # Extract feature names without the numbers\n",
    "        new_labels = [label.get_text().split('=')[1].strip() if '=' in label.get_text() else label.get_text() for label in yticklabels]\n",
    "        \n",
    "        # Apply new labels\n",
    "        ax.set_yticklabels(new_labels)\n",
    "\n",
    "        # Format the bar labels to show more precision\n",
    "        format_bar_labels(ax, precision=6)\n",
    "\n",
    "        plt.title(f'SHAP Waterfall Plot for permno: {desired_permno}')  # Display permno in the plot title\n",
    "        plt.show()\n",
    "        print(\"Successfully generated SHAP waterfall plot for permno:\", desired_permno)\n",
    "    except Exception as e:\n",
    "        print(\"Error in generating SHAP waterfall plot for permno:\", desired_permno, \":\", e)\n",
    "else:\n",
    "    print(\"Permno\", desired_permno, \"not found in the test data.\")"
   ]
  },
  {
   "cell_type": "code",
   "execution_count": null,
   "id": "146f8c7f-e52b-460c-9921-43bd3ff9fb2f",
   "metadata": {},
   "outputs": [],
   "source": [
    "desired_permno = 80803  # Set the desired permno here\n",
    "\n",
    "# Find the index of the desired permno in the test_permnos list\n",
    "if desired_permno in permnos:\n",
    "    instance_index = permnos.index(desired_permno)\n",
    "    if instance_index is not None:\n",
    "        try:\n",
    "            shap.initjs()  # Initialize JavaScript visualization in Jupyter notebook\n",
    "\n",
    "            # Data for the instance\n",
    "            feature_data = test_data_for_explanation[instance_index]\n",
    "\n",
    "            # Visualize the force plot for the specific instance\n",
    "            plot = shap.force_plot(\n",
    "                explainer.expected_value[0],  # Base value from the explainer\n",
    "                shap_values[0][instance_index],  # SHAP values for the desired instance and class\n",
    "                feature_data,  # Feature data for the desired instance\n",
    "                feature_names=ratios  # Names of the features\n",
    "            )\n",
    "            \n",
    "            # Display the plot directly in the notebook\n",
    "            shap.save_html(f\"SHAP_force_plot_permno_{desired_permno}.html\", plot)  # Save the plot as an HTML file\n",
    "            display(plot)\n",
    "            print(f\"Successfully generated SHAP force plot for permno: {desired_permno}\")\n",
    "        except Exception as e:\n",
    "            print(f\"Error in generating SHAP force plot for permno: {desired_permno}: {e}\")\n",
    "else:\n",
    "    print(f\"Permno {desired_permno} not found in the test data.\")\n"
   ]
  },
  {
   "cell_type": "code",
   "execution_count": null,
   "id": "dda81bca-4353-4950-9146-d068ebfb84cc",
   "metadata": {},
   "outputs": [],
   "source": []
  }
 ],
 "metadata": {
  "kernelspec": {
   "display_name": "Python 3 (ipykernel)",
   "language": "python",
   "name": "python3"
  },
  "language_info": {
   "codemirror_mode": {
    "name": "ipython",
    "version": 3
   },
   "file_extension": ".py",
   "mimetype": "text/x-python",
   "name": "python",
   "nbconvert_exporter": "python",
   "pygments_lexer": "ipython3",
   "version": "3.7.16"
  }
 },
 "nbformat": 4,
 "nbformat_minor": 5
}
